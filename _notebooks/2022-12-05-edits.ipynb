{
 "cells": [
  {
   "cell_type": "markdown",
   "metadata": {},
   "source": [
    "### Unit 3 Section 10 - Luna Iwazaki"
   ]
  },
  {
   "cell_type": "markdown",
   "metadata": {},
   "source": [
    "**Section 10 - Lists**"
   ]
  },
  {
   "cell_type": "markdown",
   "metadata": {},
   "source": [
    "**Lists Recap**"
   ]
  },
  {
   "cell_type": "markdown",
   "metadata": {},
   "source": [
    "append() - adding element to the end of the list"
   ]
  },
  {
   "cell_type": "code",
   "execution_count": 5,
   "metadata": {},
   "outputs": [],
   "source": [
    "names = ['taiyo', 'ethan', 'parav', 'nikhil']\n",
    "# add element to the end of the list\n",
    "names.append('luna')\n",
    "# start with empty list\n",
    "names = []\n",
    "names.append('taiyo')\n",
    "names.append('ethan')\n",
    "names.append('parav')\n",
    "names. append('nikhil')\n"
   ]
  },
  {
   "cell_type": "markdown",
   "metadata": {},
   "source": [
    "insert() - adding an element in a specific position"
   ]
  },
  {
   "cell_type": "code",
   "execution_count": 7,
   "metadata": {},
   "outputs": [],
   "source": [
    "names = ['luna', 'taiyo', 'ethan', 'parav', 'nikhil']\n",
    "# adding in a specific position\n",
    "names.insert(0, 'taiyo')\n",
    "names.insert(3, 'ethan')"
   ]
  },
  {
   "cell_type": "markdown",
   "metadata": {},
   "source": [
    "remove() - remove an item from the list"
   ]
  },
  {
   "cell_type": "code",
   "execution_count": 6,
   "metadata": {},
   "outputs": [],
   "source": [
    "names = ['luna', 'taiyo', 'ethan', 'parav', 'nikhil']\n",
    "# deleting by value\n",
    "names.remove('parav')\n",
    "# by position\n",
    "del names[-1]"
   ]
  },
  {
   "cell_type": "markdown",
   "metadata": {},
   "source": [
    "pop() - takes the item off the top of the \"stack\" (by default it returns the last element of the list but you can also pop from any position)"
   ]
  },
  {
   "cell_type": "code",
   "execution_count": null,
   "metadata": {},
   "outputs": [],
   "source": [
    "names = ['luna', 'taiyo', 'ethan', 'parav', 'nikhil']\n",
    "# pop last item of list\n",
    "most_recent_name = names.pop()\n",
    "print(most_recent_name)\n",
    "# pop first item of list\n",
    "first_name = names.pop(0)\n",
    "print(first_name)"
   ]
  },
  {
   "cell_type": "markdown",
   "metadata": {},
   "source": [
    "len() - returns the number of items in a list"
   ]
  },
  {
   "cell_type": "code",
   "execution_count": 9,
   "metadata": {},
   "outputs": [
    {
     "name": "stdout",
     "output_type": "stream",
     "text": [
      "There are5names.\n"
     ]
    }
   ],
   "source": [
    "names = ['luna', 'taiyo', 'ethan', 'parav', 'nikhil']\n",
    "# find length of list\n",
    "num_names = len(names)\n",
    "print(\"There are\" + str(num_names) + \"names.\")"
   ]
  },
  {
   "cell_type": "markdown",
   "metadata": {},
   "source": [
    "sort() - changes order of list permanently "
   ]
  },
  {
   "cell_type": "markdown",
   "metadata": {},
   "source": [
    "sorted() - returns a copy of the list which leaves the original copy unchanged"
   ]
  },
  {
   "cell_type": "code",
   "execution_count": 11,
   "metadata": {},
   "outputs": [
    {
     "name": "stdout",
     "output_type": "stream",
     "text": [
      "['ethan', 'luna', 'nikhil', 'parav', 'taiyo']\n",
      "['taiyo', 'parav', 'nikhil', 'luna', 'ethan']\n"
     ]
    }
   ],
   "source": [
    "names = ['luna', 'taiyo', 'ethan', 'parav', 'nikhil']\n",
    "# sort permanently\n",
    "names.sort()\n",
    "# sort permanently in reverse alphabetical order\n",
    "names.sort(reverse=True)\n",
    "# temp. sort\n",
    "print(sorted(names))\n",
    "print(sorted(names, reverse=True))\n",
    "# reversing the order of a list\n",
    "names.reverse()"
   ]
  },
  {
   "cell_type": "markdown",
   "metadata": {},
   "source": [
    "range() - use to work with number efficiently"
   ]
  },
  {
   "cell_type": "code",
   "execution_count": 14,
   "metadata": {},
   "outputs": [
    {
     "name": "stdout",
     "output_type": "stream",
     "text": [
      "0\n",
      "1\n",
      "2\n",
      "3\n",
      "4\n",
      "5\n",
      "6\n",
      "7\n",
      "8\n",
      "9\n",
      "10\n"
     ]
    }
   ],
   "source": [
    "# print numbers 0 to 10\n",
    "for number in range(11):\n",
    "    print(number)\n",
    "# making list of numbers 1 to 10\n",
    "# using the list() value can generate a large list of numbers\n",
    "numbers = list(range(1, 10))\n"
   ]
  },
  {
   "cell_type": "markdown",
   "metadata": {},
   "source": [
    "min() - find the least value in list"
   ]
  },
  {
   "cell_type": "code",
   "execution_count": 16,
   "metadata": {},
   "outputs": [
    {
     "name": "stdout",
     "output_type": "stream",
     "text": [
      "10\n"
     ]
    }
   ],
   "source": [
    "nums = [10, 30, 40, 60, 70, 60]\n",
    "least = min(nums)\n",
    "print(min(nums))"
   ]
  },
  {
   "cell_type": "markdown",
   "metadata": {},
   "source": [
    "max() - find the highest value in list"
   ]
  },
  {
   "cell_type": "code",
   "execution_count": 18,
   "metadata": {},
   "outputs": [
    {
     "name": "stdout",
     "output_type": "stream",
     "text": [
      "70\n"
     ]
    }
   ],
   "source": [
    "nums = [10, 30, 40, 60, 70, 60]\n",
    "highest = max(nums)\n",
    "print(max(nums))"
   ]
  },
  {
   "cell_type": "markdown",
   "metadata": {},
   "source": [
    "sum() - sum of all in list"
   ]
  },
  {
   "cell_type": "code",
   "execution_count": 19,
   "metadata": {},
   "outputs": [
    {
     "name": "stdout",
     "output_type": "stream",
     "text": [
      "270\n"
     ]
    }
   ],
   "source": [
    "nums = [10, 30, 40, 60, 70, 60]\n",
    "total = sum(nums)\n",
    "print(sum(nums))"
   ]
  },
  {
   "cell_type": "markdown",
   "metadata": {},
   "source": [
    "**Practice Question**"
   ]
  },
  {
   "cell_type": "markdown",
   "metadata": {},
   "source": [
    "Using the information above fill in the missing code"
   ]
  },
  {
   "cell_type": "code",
   "execution_count": null,
   "metadata": {},
   "outputs": [],
   "source": [
    "nums = []\n",
    "nums.#missing code '15'\n",
    "nums.#missing code '43'\n",
    "nums.#missing code '81'\n",
    "nums.#missing code '25'\n",
    "\n",
    "least = #missing code\n",
    "print(#missing code)"
   ]
  },
  {
   "cell_type": "markdown",
   "metadata": {},
   "source": [
    "\n",
    "\n",
    "\n",
    "\n",
    "\n",
    "\n",
    "\n"
   ]
  },
  {
   "cell_type": "code",
   "execution_count": 1,
   "metadata": {},
   "outputs": [
    {
     "name": "stdout",
     "output_type": "stream",
     "text": [
      "15\n"
     ]
    }
   ],
   "source": [
    "nums = []\n",
    "nums.append('15')\n",
    "nums.append('43')\n",
    "nums.append('81')\n",
    "nums.append('25')\n",
    "\n",
    "least = min(nums)\n",
    "print(min(nums))"
   ]
  },
  {
   "cell_type": "markdown",
   "metadata": {},
   "source": [
    "**AP Exam Reference Sheet**"
   ]
  },
  {
   "cell_type": "markdown",
   "metadata": {},
   "source": [
    "Since CS is taught in different languages the pseudocode represents fundamental programming concepts."
   ]
  },
  {
   "cell_type": "markdown",
   "metadata": {},
   "source": [
    "- provides basic operations on lists\n",
    "- provides pseudocode for loops\n",
    "- helps you understand code used in questions\n",
    "- students can use this reference sheet in the AP Exam"
   ]
  },
  {
   "cell_type": "markdown",
   "metadata": {},
   "source": [
    "[APCSP Testing Reference Sheet](https://apcentral.collegeboard.org/media/pdf/ap-computer-science-principles-exam-reference-sheet.pdf)"
   ]
  },
  {
   "cell_type": "markdown",
   "metadata": {},
   "source": [
    "If you looked at the reference sheet and seem to not understand some concepts here is a Khan Academy resource which can help you understand specific topics."
   ]
  },
  {
   "cell_type": "markdown",
   "metadata": {},
   "source": [
    "[Khan Academy Resource](https://www.khanacademy.org/computing/ap-computer-science-principles/ap-csp-exam-preparation/learn-ap-csp-exam-pseudocode/a/ap-csp-exam-pseudocode-reference)"
   ]
  },
  {
   "cell_type": "markdown",
   "metadata": {},
   "source": [
    "**Practice Question**"
   ]
  },
  {
   "cell_type": "markdown",
   "metadata": {},
   "source": [
    "If the list words contain ['song', 'book', 'video', 'book'] what will be the following code output"
   ]
  },
  {
   "cell_type": "markdown",
   "metadata": {},
   "source": [
    "### Finding Values in Lists (Luna Iwazaki)"
   ]
  },
  {
   "cell_type": "markdown",
   "metadata": {},
   "source": [
    "**Part 1**"
   ]
  },
  {
   "cell_type": "markdown",
   "metadata": {},
   "source": [
    "- use the list below\n",
    "- make a variable to hold the minimum and set it to potential minimum value\n",
    "- loop\n",
    "- check each element to see if it is less than the minimum variable\n",
    "- if the element is less than the minimum variable, update the minimum\n",
    "- after all the elements of the list have been checked, display the minimum value"
   ]
  },
  {
   "cell_type": "code",
   "execution_count": null,
   "metadata": {},
   "outputs": [],
   "source": [
    "nums = ['38', '45', '67', '83', '78']\n",
    "# add code here"
   ]
  },
  {
   "cell_type": "markdown",
   "metadata": {},
   "source": [
    "**Part 2**"
   ]
  },
  {
   "cell_type": "markdown",
   "metadata": {},
   "source": [
    "look at the apcsp reference sheet and take notes about ones you don't understand (at least 4)\n"
   ]
  }
 ],
 "metadata": {
  "kernelspec": {
   "display_name": "Python 3.8.9 64-bit",
   "language": "python",
   "name": "python3"
  },
  "language_info": {
   "codemirror_mode": {
    "name": "ipython",
    "version": 3
   },
   "file_extension": ".py",
   "mimetype": "text/x-python",
   "name": "python",
   "nbconvert_exporter": "python",
   "pygments_lexer": "ipython3",
   "version": "3.8.9"
  },
  "orig_nbformat": 4,
  "vscode": {
   "interpreter": {
    "hash": "31f2aee4e71d21fbe5cf8b01ff0e069b9275f58929596ceb00d14d90e3e16cd6"
   }
  }
 },
 "nbformat": 4,
 "nbformat_minor": 2
}
